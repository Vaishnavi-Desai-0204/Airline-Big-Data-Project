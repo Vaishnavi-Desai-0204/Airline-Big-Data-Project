{
 "cells": [
  {
   "cell_type": "code",
   "execution_count": 31,
   "metadata": {},
   "outputs": [],
   "source": [
    "from flask import Flask, render_template, request\n",
    "import json\n",
    "import pandas as pd\n",
    "import numpy as np\n",
    "import networkx as nx\n",
    "import json\n",
    "from flask import Flask, render_template\n",
    "import matplotlib.pyplot as plt\n",
    "import mplcursors\n"
   ]
  },
  {
   "cell_type": "code",
   "execution_count": 32,
   "metadata": {},
   "outputs": [],
   "source": [
    "routes = pd.read_csv('Data/routes.csv', sep=',', header=None)"
   ]
  },
  {
   "cell_type": "code",
   "execution_count": 33,
   "metadata": {},
   "outputs": [],
   "source": [
    "routes = routes.drop([0,1,3,5,6,7,8],axis=1)"
   ]
  },
  {
   "cell_type": "code",
   "execution_count": 34,
   "metadata": {},
   "outputs": [],
   "source": [
    "routes.rename(columns={2: 'origin',4: 'destination'}, inplace=True)"
   ]
  },
  {
   "cell_type": "code",
   "execution_count": 35,
   "metadata": {},
   "outputs": [],
   "source": [
    "isolated = ['BMY', 'GEA', 'ILP', 'KNQ', 'KOC', 'LIF', 'MEE', 'TGJ', 'TOU', 'UVE', 'ERS', 'MPA', 'NDU', 'OND',\n",
    "                'BFI', 'CLM', 'ESD', 'FRD', 'AKB', 'DUT', 'IKO', 'KQA', 'SPB', 'SSB', 'CKX', 'TKJ', 'BLD', 'GCW']\n"
   ]
  },
  {
   "cell_type": "code",
   "execution_count": 36,
   "metadata": {},
   "outputs": [],
   "source": [
    "routes = routes[np.logical_not(routes.origin.isin(isolated))]\n",
    "routes = routes[np.logical_not(routes.destination.isin(isolated))]\n",
    "llista1=np.unique(routes.origin)\n",
    "llista2=np.unique(routes.destination)\n",
    "airports = np.unique(np.concatenate([llista1,llista2],axis=0))"
   ]
  },
  {
   "cell_type": "code",
   "execution_count": 37,
   "metadata": {},
   "outputs": [
    {
     "data": {
      "text/plain": [
       "origin  destination\n",
       "AAE     ALG            1\n",
       "        CDG            1\n",
       "        IST            1\n",
       "        LYS            1\n",
       "        MRS            2\n",
       "dtype: int64"
      ]
     },
     "execution_count": 37,
     "metadata": {},
     "output_type": "execute_result"
    }
   ],
   "source": [
    "routes_with_weight = routes.groupby(['origin', 'destination']).size()\n",
    "routes_with_weight.head()"
   ]
  },
  {
   "cell_type": "code",
   "execution_count": 38,
   "metadata": {},
   "outputs": [],
   "source": [
    "links = routes_with_weight.index.unique()\n",
    "weights = routes_with_weight.tolist()"
   ]
  },
  {
   "cell_type": "code",
   "execution_count": 39,
   "metadata": {},
   "outputs": [
    {
     "data": {
      "text/plain": [
       "[('AAE', 'ALG', 1),\n",
       " ('AAE', 'CDG', 1),\n",
       " ('AAE', 'IST', 1),\n",
       " ('AAE', 'LYS', 1),\n",
       " ('AAE', 'MRS', 2),\n",
       " ('AAE', 'ORN', 1),\n",
       " ('AAE', 'ORY', 2),\n",
       " ('AAL', 'AAR', 1),\n",
       " ('AAL', 'AGP', 1),\n",
       " ('AAL', 'ALC', 1)]"
      ]
     },
     "execution_count": 39,
     "metadata": {},
     "output_type": "execute_result"
    }
   ],
   "source": [
    "input_tuple = [link + (weight,) for link, weight in zip (links, weights)]\n",
    "input_tuple[:10]"
   ]
  },
  {
   "cell_type": "code",
   "execution_count": 40,
   "metadata": {},
   "outputs": [
    {
     "data": {
      "image/png": "[encoded data removed]",
      "text/plain": [
       "<Figure size 640x480 with 1 Axes>"
      ]
     },
     "metadata": {},
     "output_type": "display_data"
    }
   ],
   "source": [
    "plt.hist(weights,bins=max(weights))\n",
    "plt.xlim(1,10)\n",
    "plt.ylabel('Number of Routes')\n",
    "plt.xlabel('Weights - Number of Flights')\n",
    "plt.show()"
   ]
  },
  {
   "cell_type": "code",
   "execution_count": 41,
   "metadata": {},
   "outputs": [],
   "source": [
    "g_und = nx.Graph()"
   ]
  },
  {
   "cell_type": "code",
   "execution_count": 42,
   "metadata": {},
   "outputs": [],
   "source": [
    "g_und.name = 'Undirected Graph'"
   ]
  },
  {
   "cell_type": "code",
   "execution_count": 43,
   "metadata": {},
   "outputs": [],
   "source": [
    "g_und.add_nodes_from(airports,bipartite=1)"
   ]
  },
  {
   "cell_type": "code",
   "execution_count": 44,
   "metadata": {},
   "outputs": [],
   "source": [
    "g_und.add_weighted_edges_from(input_tuple)"
   ]
  },
  {
   "cell_type": "code",
   "execution_count": 45,
   "metadata": {},
   "outputs": [
    {
     "data": {
      "text/plain": [
       "True"
      ]
     },
     "execution_count": 45,
     "metadata": {},
     "output_type": "execute_result"
    }
   ],
   "source": [
    "nx.is_connected(g_und)"
   ]
  },
  {
   "cell_type": "code",
   "execution_count": 46,
   "metadata": {},
   "outputs": [],
   "source": [
    "degree = dict(g_und.degree())\n",
    "df = pd.DataFrame()\n",
    "df['val'] = degree.values()\n",
    "df['key'] = degree.keys()\n"
   ]
  },
  {
   "cell_type": "code",
   "execution_count": 47,
   "metadata": {},
   "outputs": [],
   "source": [
    "cluster_coeff=nx.clustering(g_und)\n",
    "df['cluster']=cluster_coeff.values()"
   ]
  },
  {
   "cell_type": "code",
   "execution_count": 48,
   "metadata": {},
   "outputs": [
    {
     "data": {
      "text/html": [
       "<div>\n",
       "<style scoped>\n",
       "    .dataframe tbody tr th:only-of-type {\n",
       "        vertical-align: middle;\n",
       "    }\n",
       "\n",
       "    .dataframe tbody tr th {\n",
       "        vertical-align: top;\n",
       "    }\n",
       "\n",
       "    .dataframe thead th {\n",
       "        text-align: right;\n",
       "    }\n",
       "</style>\n",
       "<table border=\"1\" class=\"dataframe\">\n",
       "  <thead>\n",
       "    <tr style=\"text-align: right;\">\n",
       "      <th></th>\n",
       "      <th>val</th>\n",
       "      <th>key</th>\n",
       "      <th>cluster</th>\n",
       "    </tr>\n",
       "  </thead>\n",
       "  <tbody>\n",
       "    <tr>\n",
       "      <th>0</th>\n",
       "      <td>7</td>\n",
       "      <td>AAE</td>\n",
       "      <td>0.904762</td>\n",
       "    </tr>\n",
       "    <tr>\n",
       "      <th>1</th>\n",
       "      <td>13</td>\n",
       "      <td>AAL</td>\n",
       "      <td>0.807692</td>\n",
       "    </tr>\n",
       "    <tr>\n",
       "      <th>2</th>\n",
       "      <td>2</td>\n",
       "      <td>AAN</td>\n",
       "      <td>0.000000</td>\n",
       "    </tr>\n",
       "    <tr>\n",
       "      <th>3</th>\n",
       "      <td>3</td>\n",
       "      <td>AAQ</td>\n",
       "      <td>0.666667</td>\n",
       "    </tr>\n",
       "    <tr>\n",
       "      <th>4</th>\n",
       "      <td>8</td>\n",
       "      <td>AAR</td>\n",
       "      <td>0.642857</td>\n",
       "    </tr>\n",
       "  </tbody>\n",
       "</table>\n",
       "</div>"
      ],
      "text/plain": [
       "   val  key   cluster\n",
       "0    7  AAE  0.904762\n",
       "1   13  AAL  0.807692\n",
       "2    2  AAN  0.000000\n",
       "3    3  AAQ  0.666667\n",
       "4    8  AAR  0.642857"
      ]
     },
     "execution_count": 48,
     "metadata": {},
     "output_type": "execute_result"
    }
   ],
   "source": [
    "df.head()"
   ]
  },
  {
   "cell_type": "code",
   "execution_count": 49,
   "metadata": {},
   "outputs": [],
   "source": [
    "dades = df.groupby(['val']).count()\n",
    "dades = dades[dades['key']!=0]"
   ]
  },
  {
   "cell_type": "code",
   "execution_count": 50,
   "metadata": {},
   "outputs": [],
   "source": [
    "index= np.array(dades.index)\n",
    "n_enllacos = np.array(dades.key)\n",
    "n_enllacos = list(map(float, n_enllacos))\n",
    "n_enllacos = np.reshape(n_enllacos, (1, len(n_enllacos)))\n",
    "n_enllacos = (n_enllacos - n_enllacos.min()) / (n_enllacos.max() - n_enllacos.min())\n"
   ]
  },
  {
   "cell_type": "code",
   "execution_count": 51,
   "metadata": {},
   "outputs": [
    {
     "name": "stderr",
     "output_type": "stream",
     "text": [
      "C:\\Users\\vdesa\\AppData\\Local\\Temp\\ipykernel_30852\\897055788.py:8: UserWarning: Attempt to set non-positive ylim on a log-scaled axis will be ignored.\n",
      "  plt.ylim(min( n_enllacos[0]),max( n_enllacos[0]))\n",
      "C:\\Users\\vdesa\\AppData\\Local\\Temp\\ipykernel_30852\\897055788.py:9: UserWarning: Attempt to set non-positive xlim on a log-scaled axis will be ignored.\n",
      "  plt.xlim(0, max(index))\n"
     ]
    },
    {
     "data": {
      "image/png": "[encoded data removed]",
      "text/plain": [
       "<Figure size 640x480 with 1 Axes>"
      ]
     },
     "metadata": {},
     "output_type": "display_data"
    }
   ],
   "source": [
    "rng = range(len(index))\n",
    "plt.plot(index, index**-2., \"b--\")\n",
    "plt.plot(index,n_enllacos[0],'k.-')\n",
    "plt.yscale('log')\n",
    "plt.xscale('log')\n",
    "plt.xlabel('Node Degree')\n",
    "plt.ylabel('Degree Distribution')\n",
    "plt.ylim(min( n_enllacos[0]),max( n_enllacos[0]))\n",
    "plt.xlim(0, max(index))\n",
    "plt.show()"
   ]
  },
  {
   "attachments": {},
   "cell_type": "markdown",
   "metadata": {},
   "source": [
    "The following plot depicts the Degree distribution vs the number of Degrees. The degree distribution, \n",
    ", provides the probability that a randomly selected node in the network has degree k. The degree distribution has assumed a central role in network theory following the discovery of scale-free networks\n",
    "\n",
    "As it can be seen the probability of a node to have a high degree is less likely than having a low one, this is, most are highly right-skewed, meaning that a large majority of nodes have low degree but a small number, known as \"hubs\", have high degree, with more than 1e2 degrees in some cases.\n",
    "\n"
   ]
  },
  {
   "cell_type": "code",
   "execution_count": 52,
   "metadata": {},
   "outputs": [],
   "source": [
    "cluster_gr=df.groupby(['val'])['cluster'].mean()"
   ]
  },
  {
   "cell_type": "code",
   "execution_count": 53,
   "metadata": {},
   "outputs": [],
   "source": [
    "x = np.arange(1,len(cluster_gr.index[1:]))\n",
    "y = x**-1."
   ]
  },
  {
   "attachments": {},
   "cell_type": "markdown",
   "metadata": {},
   "source": [
    "The clustering coefficient captures the degree to which the neighbors of a given node link to each other. For a node i with degree ki the local clustering coefficient is defined as \n",
    " \n",
    ", where \n",
    " represents the number of links between the \n",
    " neighbors of node i.\n",
    "\n",
    "Also the theoretical slope approximation as a power low of \n",
    " is also shown in blue, the trend of which does not resemble as much the obtained result in this case.\n",
    "\n",
    "The average clustering of the network is obtained in the following cell, which is of 0.48. It is the overall level of clustering in a network, and it basically calculates the average of the local clustering coefficients of all the vertices, and therefore informs of how much does the network tend to create local clusters.\n",
    "\n",
    "In this case it is close to 0.5, which implies that there is about 50% chance that two neighbors of a node are linked."
   ]
  },
  {
   "cell_type": "code",
   "execution_count": 54,
   "metadata": {},
   "outputs": [
    {
     "data": {
      "text/plain": [
       "0.48833620245296155"
      ]
     },
     "execution_count": 54,
     "metadata": {},
     "output_type": "execute_result"
    }
   ],
   "source": [
    "nx.average_clustering(g_und)"
   ]
  },
  {
   "cell_type": "code",
   "execution_count": 55,
   "metadata": {},
   "outputs": [
    {
     "name": "stderr",
     "output_type": "stream",
     "text": [
      "C:\\Users\\vdesa\\AppData\\Local\\Temp\\ipykernel_30852\\460363669.py:9: UserWarning: Attempt to set non-positive xlim on a log-scaled axis will be ignored.\n",
      "  plt.xlim(0, max(cluster_gr.index[1:]))\n"
     ]
    },
    {
     "data": {
      "image/png": "[encoded data removed]",
      "text/plain": [
       "<Figure size 640x480 with 1 Axes>"
      ]
     },
     "metadata": {},
     "output_type": "display_data"
    }
   ],
   "source": [
    "rng = np.arange(len(cluster_gr.index[1:]))\n",
    "#plt.plot(rng, rng**(-1.), \"b--\")\n",
    "plt.plot(cluster_gr.index[1:], cluster_gr.values[1:],'k.-')\n",
    "plt.yscale('log')\n",
    "plt.xscale('log')\n",
    "plt.xlabel('Node Degree')\n",
    "plt.ylabel('Clustering coefficient')\n",
    "plt.ylim(min( cluster_gr.values[1:]),max( cluster_gr.values[1:]))\n",
    "plt.xlim(0, max(cluster_gr.index[1:]))\n",
    "plt.show()"
   ]
  },
  {
   "attachments": {},
   "cell_type": "markdown",
   "metadata": {},
   "source": [
    "It seems intuitive due to the nature of the network that airports with a very low degree, therefore small amount of flights will tens to create clusters with nearby airports, given that they will be less interconnected with other worldwide airports.\n",
    "\n",
    "This is what is reflected in the Clustering coefficient vs degree graph, where the clustering coefficient decreases the higher the degree of a node.\n",
    "\n",
    "In order to travel from one of these low degree nodes, to another cluster several jumps will be needed, thus one should be in the right side nodes of the graph. Major airports however are more connected with other major airports in around the world, and not so much with smaller reagional airports, which might only be connected with some other 2 or 3 airports.\n"
   ]
  },
  {
   "cell_type": "code",
   "execution_count": 56,
   "metadata": {},
   "outputs": [],
   "source": [
    "shortest_paths = nx.shortest_path_length(g_und)"
   ]
  },
  {
   "cell_type": "code",
   "execution_count": 57,
   "metadata": {},
   "outputs": [],
   "source": [
    "l = shortest_paths\n",
    "k=6"
   ]
  },
  {
   "cell_type": "code",
   "execution_count": 58,
   "metadata": {},
   "outputs": [],
   "source": [
    "def separation_degrees(shortest_paths, with_n_jumps):\n",
    "    n = len(shortest_paths)\n",
    "    coef = [None] * n\n",
    "    for shortest_path, i in zip(shortest_paths.values(), range(n)):\n",
    "        jumps = np.array(shortest_path.values())\n",
    "        # Ratio of aerports that are reachable with n jumps\n",
    "        coef[i] = np.float(len(jumps[jumps <= with_n_jumps]))/np.float(len(jumps)-1)\n",
    "    return round(np.mean(coef),4)"
   ]
  },
  {
   "cell_type": "code",
   "execution_count": null,
   "metadata": {},
   "outputs": [],
   "source": [
    "\n"
   ]
  },
  {
   "cell_type": "code",
   "execution_count": 59,
   "metadata": {},
   "outputs": [
    {
     "ename": "NameError",
     "evalue": "name 'sample' is not defined",
     "output_type": "error",
     "traceback": [
      "\u001b[1;31m---------------------------------------------------------------------------\u001b[0m",
      "\u001b[1;31mNameError\u001b[0m                                 Traceback (most recent call last)",
      "\u001b[1;32mc:\\Users\\vdesa\\OneDrive\\Desktop\\Airline-Big-Data-Project\\test.ipynb Cell 33\u001b[0m in \u001b[0;36m1\n\u001b[1;32m----> <a href='vscode-notebook-cell:/c%3A/Users/vdesa/OneDrive/Desktop/Airline-Big-Data-Project/test.ipynb#X44sZmlsZQ%3D%3D?line=0'>1</a>\u001b[0m plt\u001b[39m.\u001b[39mplot(np\u001b[39m.\u001b[39marange(\u001b[39m1\u001b[39m,\u001b[39m10\u001b[39m),sample,\u001b[39m'\u001b[39m\u001b[39mo-\u001b[39m\u001b[39m'\u001b[39m)\n\u001b[0;32m      <a href='vscode-notebook-cell:/c%3A/Users/vdesa/OneDrive/Desktop/Airline-Big-Data-Project/test.ipynb#X44sZmlsZQ%3D%3D?line=1'>2</a>\u001b[0m plt\u001b[39m.\u001b[39mxlabel(\u001b[39m'\u001b[39m\u001b[39mMaximum number of jumps\u001b[39m\u001b[39m'\u001b[39m)\n\u001b[0;32m      <a href='vscode-notebook-cell:/c%3A/Users/vdesa/OneDrive/Desktop/Airline-Big-Data-Project/test.ipynb#X44sZmlsZQ%3D%3D?line=2'>3</a>\u001b[0m plt\u001b[39m.\u001b[39mylabel(\u001b[39m'\u001b[39m\u001b[39m% o\u001b[39;00m\u001b[39mf airports you can get to\u001b[39m\u001b[39m'\u001b[39m)\n",
      "\u001b[1;31mNameError\u001b[0m: name 'sample' is not defined"
     ]
    }
   ],
   "source": [
    "plt.plot(np.arange(1,10),sample,'o-')\n",
    "plt.xlabel('Maximum number of jumps')\n",
    "plt.ylabel('% of airports you can get to')\n",
    "plt.ylim(0,1.2)\n",
    "for a,b in zip(np.arange(1,10),sample): \n",
    "    plt.text(a-0.5, b+0.05, str(round(b,2)))\n",
    "plt.show()"
   ]
  },
  {
   "cell_type": "code",
   "execution_count": null,
   "metadata": {},
   "outputs": [],
   "source": [
    "def jumps_to_reach_any_airport(shortest_paths,city):\n",
    "    max_jump = [{i: max(shortest_paths[i].values())} for i in shortest_paths]\n",
    "    finalMap = {}\n",
    "    for max_jump_per_cities in max_jump:\n",
    "        finalMap.update(max_jump_per_cities)\n",
    "    return finalMap[city]"
   ]
  },
  {
   "cell_type": "code",
   "execution_count": null,
   "metadata": {},
   "outputs": [
    {
     "ename": "KeyError",
     "evalue": "'JFK'",
     "output_type": "error",
     "traceback": [
      "\u001b[1;31m---------------------------------------------------------------------------\u001b[0m",
      "\u001b[1;31mKeyError\u001b[0m                                  Traceback (most recent call last)",
      "\u001b[1;32mc:\\Users\\vdesa\\OneDrive\\Desktop\\Airline-Big-Data-Project\\test.ipynb Cell 35\u001b[0m in \u001b[0;36m1\n\u001b[1;32m----> <a href='vscode-notebook-cell:/c%3A/Users/vdesa/OneDrive/Desktop/Airline-Big-Data-Project/test.ipynb#X51sZmlsZQ%3D%3D?line=0'>1</a>\u001b[0m jumps_to_reach_any_airport(shortest_paths,\u001b[39m'\u001b[39;49m\u001b[39mJFK\u001b[39;49m\u001b[39m'\u001b[39;49m)\n",
      "\u001b[1;32mc:\\Users\\vdesa\\OneDrive\\Desktop\\Airline-Big-Data-Project\\test.ipynb Cell 35\u001b[0m in \u001b[0;36m6\n\u001b[0;32m      <a href='vscode-notebook-cell:/c%3A/Users/vdesa/OneDrive/Desktop/Airline-Big-Data-Project/test.ipynb#X51sZmlsZQ%3D%3D?line=3'>4</a>\u001b[0m \u001b[39mfor\u001b[39;00m max_jump_per_cities \u001b[39min\u001b[39;00m max_jump:\n\u001b[0;32m      <a href='vscode-notebook-cell:/c%3A/Users/vdesa/OneDrive/Desktop/Airline-Big-Data-Project/test.ipynb#X51sZmlsZQ%3D%3D?line=4'>5</a>\u001b[0m     finalMap\u001b[39m.\u001b[39mupdate(max_jump_per_cities)\n\u001b[1;32m----> <a href='vscode-notebook-cell:/c%3A/Users/vdesa/OneDrive/Desktop/Airline-Big-Data-Project/test.ipynb#X51sZmlsZQ%3D%3D?line=5'>6</a>\u001b[0m \u001b[39mreturn\u001b[39;00m finalMap[city]\n",
      "\u001b[1;31mKeyError\u001b[0m: 'JFK'"
     ]
    }
   ],
   "source": [
    "jumps_to_reach_any_airport(shortest_paths,'JFK')"
   ]
  }
 ],
 "metadata": {
  "kernelspec": {
   "display_name": "Python 3",
   "language": "python",
   "name": "python3"
  },
  "language_info": {
   "codemirror_mode": {
    "name": "ipython",
    "version": 3
   },
   "file_extension": ".py",
   "mimetype": "text/x-python",
   "name": "python",
   "nbconvert_exporter": "python",
   "pygments_lexer": "ipython3",
   "version": "3.10.11"
  },
  "orig_nbformat": 4
 },
 "nbformat": 4,
 "nbformat_minor": 2
}
